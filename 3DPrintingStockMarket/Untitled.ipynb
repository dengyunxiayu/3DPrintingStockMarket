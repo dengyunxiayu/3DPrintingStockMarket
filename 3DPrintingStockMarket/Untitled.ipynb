{
 "cells": [
  {
   "cell_type": "code",
   "execution_count": null,
   "metadata": {},
   "outputs": [],
   "source": [
    "https://www.dataquest.io/wp-content/uploads/2019/07/gdp.csv"
   ]
  },
  {
   "cell_type": "code",
   "execution_count": 1,
   "metadata": {},
   "outputs": [
    {
     "name": "stdout",
     "output_type": "stream",
     "text": [
      "Capital\n",
      "GDP ($US Trillion)\n",
      "Population \n"
     ]
    }
   ],
   "source": [
    "import pandas as pd\n",
    "df = pd.read_csv('https://www.dataquest.io/wp-content/uploads/2019/07/gdp.csv', index_col=0)\n",
    "\n",
    "for val in df:\n",
    "    print(val)"
   ]
  },
  {
   "cell_type": "code",
   "execution_count": 7,
   "metadata": {},
   "outputs": [],
   "source": [
    "dic = {'AAPL': 187.31,\n",
    "        'MSFT': 124.06,\n",
    "        'FB': 183.50}"
   ]
  },
  {
   "cell_type": "code",
   "execution_count": 8,
   "metadata": {},
   "outputs": [
    {
     "data": {
      "text/plain": [
       "{0: {'AAPL': 187.31, 'MSFT': 124.06, 'FB': 183.5}}"
      ]
     },
     "execution_count": 8,
     "metadata": {},
     "output_type": "execute_result"
    }
   ],
   "source": [
    "#df1 = pd.DataFrame()\n",
    "dic1 = {}\n",
    "for i in range (1):\n",
    "#    df1[i] = df1[i].append.df\n",
    "    dic1[i] = dic\n",
    "    \n",
    "#df1\n",
    "dic1"
   ]
  },
  {
   "cell_type": "code",
   "execution_count": 12,
   "metadata": {},
   "outputs": [
    {
     "data": {
      "text/plain": [
       "{0:                          Capital  GDP ($US Trillion)  Population \n",
       " Country                                                          \n",
       " Ireland                   Dublin              0.3337      4784000\n",
       " United Kingdom            London              2.6220     66040000\n",
       " United States   Washington, D.C.             19.3900    327200000\n",
       " China                    Beijing             12.2400   1386000000\n",
       " India                  New Delhi              2.5970   1339000000\n",
       " Germany                   Berlin              3.6770     82790000}"
      ]
     },
     "execution_count": 12,
     "metadata": {},
     "output_type": "execute_result"
    }
   ],
   "source": [
    "df1 = {}\n",
    "#dic1 = {}\n",
    "for i in range (1):\n",
    "    df1[i] = pd.DataFrame()\n",
    "    df1[i] = df1[i].append(df)\n",
    "#    dic1[i] = dic\n",
    "    \n",
    "df1\n",
    "#dic1"
   ]
  },
  {
   "cell_type": "code",
   "execution_count": 16,
   "metadata": {},
   "outputs": [
    {
     "data": {
      "text/plain": [
       "\"Xi'an\""
      ]
     },
     "execution_count": 16,
     "metadata": {},
     "output_type": "execute_result"
    }
   ],
   "source": [
    "x = \"Xi'an\"\n",
    "x"
   ]
  },
  {
   "cell_type": "code",
   "execution_count": null,
   "metadata": {},
   "outputs": [],
   "source": []
  }
 ],
 "metadata": {
  "kernelspec": {
   "display_name": "Python 3",
   "language": "python",
   "name": "python3"
  },
  "language_info": {
   "codemirror_mode": {
    "name": "ipython",
    "version": 3
   },
   "file_extension": ".py",
   "mimetype": "text/x-python",
   "name": "python",
   "nbconvert_exporter": "python",
   "pygments_lexer": "ipython3",
   "version": "3.8.3"
  }
 },
 "nbformat": 4,
 "nbformat_minor": 4
}
